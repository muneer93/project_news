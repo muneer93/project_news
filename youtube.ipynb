{
 "cells": [
  {
   "cell_type": "code",
   "execution_count": 2,
   "id": "a1c2cda7-080c-4e72-b3b8-1d025b8b72c6",
   "metadata": {},
   "outputs": [],
   "source": [
    "import pandas as pd\n",
    "import numpy as np\n",
    "import plotly.express as px\n",
    "import matplotlib.pyplot as plt\n",
    "from googleapiclient.discovery import build\n",
    "from dotenv import load_dotenv\n",
    "import os"
   ]
  },
  {
   "cell_type": "code",
   "execution_count": 6,
   "id": "e31d978b-c315-4c8f-94da-663746cfbe93",
   "metadata": {},
   "outputs": [],
   "source": [
    "load_dotenv()\n",
    "API_KEY = os.getenv('YOUTUBE_API_KEY')\n",
    "youtube = build('youtube', 'v3', developerKey=API_KEY)"
   ]
  },
  {
   "cell_type": "code",
   "execution_count": 11,
   "id": "ed447ae0-0d19-4725-8d94-c1b408b81aa0",
   "metadata": {},
   "outputs": [
    {
     "name": "stdout",
     "output_type": "stream",
     "text": [
      "Channel Title: NBC News, Channel ID: UCeY0bbntWzzVIaj2z3QigXg\n",
      "Channel Title: Sky News, Channel ID: UCoMdktPbSTixAyNGwb-UYkQ\n",
      "Channel Title: ABC News, Channel ID: UCBi2mrWuNuyYy4gbM6fU18Q\n",
      "Channel Title: BBC News, Channel ID: UC16niRr50-MSBwiO3YDb3RA\n",
      "Channel Title: 9 News Australia, Channel ID: UCIYLOcEUX6TbBo7HQVF2PKA\n",
      "Channel Title: にゅうちゅうぶ | NEWS official, Channel ID: UCj9f2amb1D0RuTNrBQ9GJoQ\n",
      "Channel Title: ABS-CBN News, Channel ID: UCE2606prvXQc_noEqKxVJXA\n",
      "Channel Title: 日テレNEWS, Channel ID: UCuTAXTexrhetbOe3zgskJBQ\n",
      "Channel Title: TVBS NEWS, Channel ID: UC5nwNW4KdC0SzrhF9BXEYOQ\n",
      "Channel Title: News, Channel ID: UCYfdidRxbB8Qhf0Nx7ioOYw\n",
      "Channel Title: Geo News, Channel ID: UC_vt34wimdCzdkrzVejwX9g\n",
      "Channel Title: Fox News, Channel ID: UCXIJgqnII2ZOINSWNOGFThA\n",
      "Channel Title: 無綫新聞 TVB NEWS Official, Channel ID: UC_ifDTtFAcsj-wJ5JfM27CQ\n",
      "Channel Title: NEWS AM, Channel ID: UCDv-XtfgNGHXcpwu4ab0WnA\n",
      "Channel Title: Fox News Clips, Channel ID: UCqlYzSgsh5jdtWYfVIBoTDw\n",
      "Channel Title: All Israel News (allisrael.com), Channel ID: UCu6O9MhKi6m7pgJcchrkxjA\n",
      "Channel Title: News - Topic, Channel ID: UCte8ywmzIMWUT3K6rH4H1XQ\n",
      "Channel Title: National News, Channel ID: UCcE169gw8kJCzyCJZXb7DQw\n",
      "Channel Title: Vida News - Topic, Channel ID: UCk6j5PWGPvpyYpKyYz7z91Q\n",
      "Channel Title: Public Spreads The News - Topic, Channel ID: UCuP6ZfysEnrnxjcE4wvQ_rQ\n",
      "Channel Title: Good News Circle - Topic, Channel ID: UC79umPRGQIo23TpAyfpv48w\n",
      "Channel Title: The News Hinano - Topic, Channel ID: UCt8xAhGus8I_OkChWgP4AfA\n",
      "Channel Title: Shipping News - Topic, Channel ID: UCaB0b5ufFsyqkfL4X63sOxw\n",
      "Channel Title: Good News - Topic, Channel ID: UCrLbXfsTlSlU4eZYiAXNcsQ\n",
      "Channel Title: NEWS - Topic, Channel ID: UCbYM7oBcZNzqQp98PiF5HKw\n"
     ]
    }
   ],
   "source": [
    "def search_news_channels():\n",
    "    # Search for channels related to news in the US (can include any related keywords like 'news', 'journalism')\n",
    "    request = youtube.search().list(\n",
    "        part='snippet',\n",
    "        type='channel',           # Search for channels\n",
    "        q='news',                  # Search for \"news\" related channels\n",
    "        regionCode='US',           # Limit to the US\n",
    "        maxResults=25             # Limit the number of results to 10\n",
    "    )\n",
    "    response = request.execute()\n",
    "    return response\n",
    "\n",
    "# Fetch the top 10 news channels\n",
    "news_channels = search_news_channels()\n",
    "\n",
    "# Print the channel info (you can modify this to display only the channel IDs and names)\n",
    "for channel in news_channels['items']:\n",
    "    channel_id = channel['snippet']['channelId']\n",
    "    channel_title = channel['snippet']['channelTitle']\n",
    "    print(f\"Channel Title: {channel_title}, Channel ID: {channel_id}\")"
   ]
  },
  {
   "cell_type": "code",
   "execution_count": null,
   "id": "5362f97b-9260-42cb-818d-f0cbc0d15fd1",
   "metadata": {},
   "outputs": [],
   "source": []
  },
  {
   "cell_type": "code",
   "execution_count": null,
   "id": "ebe78179-4a8c-4667-b6ec-d77b6e4a8d94",
   "metadata": {},
   "outputs": [],
   "source": []
  },
  {
   "cell_type": "code",
   "execution_count": null,
   "id": "9fd8c169-b9ae-41bb-bc2e-fb3a77986406",
   "metadata": {},
   "outputs": [],
   "source": []
  },
  {
   "cell_type": "code",
   "execution_count": null,
   "id": "398da8fc-a19b-4723-bf4c-38809ee78c7c",
   "metadata": {},
   "outputs": [],
   "source": []
  },
  {
   "cell_type": "code",
   "execution_count": null,
   "id": "a547d60e-4761-44dd-8bd7-ddc438589776",
   "metadata": {},
   "outputs": [],
   "source": []
  },
  {
   "cell_type": "code",
   "execution_count": null,
   "id": "2b6ce89e-be6b-4d6b-b7bd-f6f61d74bd1d",
   "metadata": {},
   "outputs": [],
   "source": []
  },
  {
   "cell_type": "code",
   "execution_count": null,
   "id": "cd4eb8b8-6db0-465f-a899-cd5400633aa0",
   "metadata": {},
   "outputs": [],
   "source": []
  },
  {
   "cell_type": "code",
   "execution_count": null,
   "id": "f25e74a3-6741-46cd-9ecb-e80cf9fc5f76",
   "metadata": {},
   "outputs": [],
   "source": []
  },
  {
   "cell_type": "code",
   "execution_count": null,
   "id": "95494c30-915b-4e85-add4-f5f694ceb84c",
   "metadata": {},
   "outputs": [],
   "source": []
  },
  {
   "cell_type": "code",
   "execution_count": null,
   "id": "f2897e3b-ab52-4ddb-b340-43581b100b5a",
   "metadata": {},
   "outputs": [],
   "source": []
  },
  {
   "cell_type": "code",
   "execution_count": null,
   "id": "559588ca-f1cd-4323-85ad-61a0bb95b640",
   "metadata": {},
   "outputs": [],
   "source": []
  },
  {
   "cell_type": "code",
   "execution_count": null,
   "id": "65949a40-22f8-46be-8143-e0d3574cfe8a",
   "metadata": {},
   "outputs": [],
   "source": []
  },
  {
   "cell_type": "code",
   "execution_count": null,
   "id": "9c60e14a-231f-4829-82d9-d0da5443a19f",
   "metadata": {},
   "outputs": [],
   "source": []
  },
  {
   "cell_type": "code",
   "execution_count": null,
   "id": "bb9e70c3-0683-41d8-bcdc-32d2414b4d97",
   "metadata": {},
   "outputs": [],
   "source": []
  },
  {
   "cell_type": "code",
   "execution_count": null,
   "id": "c0ca461a-d2c2-49bb-a7ea-2629911ee081",
   "metadata": {},
   "outputs": [],
   "source": []
  },
  {
   "cell_type": "code",
   "execution_count": null,
   "id": "a3c8cf8a-7afd-4d84-876c-c0426ad9908a",
   "metadata": {},
   "outputs": [],
   "source": []
  },
  {
   "cell_type": "code",
   "execution_count": null,
   "id": "f5619874-c086-4cbe-b639-e121c61a1545",
   "metadata": {},
   "outputs": [],
   "source": []
  },
  {
   "cell_type": "code",
   "execution_count": null,
   "id": "d3e2b181-0b04-48a1-b8ff-9fefc42cb816",
   "metadata": {},
   "outputs": [],
   "source": []
  },
  {
   "cell_type": "code",
   "execution_count": null,
   "id": "2ca1b681-235c-40a0-ad9d-c081930c82bd",
   "metadata": {},
   "outputs": [],
   "source": []
  },
  {
   "cell_type": "code",
   "execution_count": null,
   "id": "deb83664-1a42-4d11-85a2-d954e934cff6",
   "metadata": {},
   "outputs": [],
   "source": []
  },
  {
   "cell_type": "code",
   "execution_count": null,
   "id": "a5e8bbf0-8234-4ded-89fe-e090efe38930",
   "metadata": {},
   "outputs": [],
   "source": []
  }
 ],
 "metadata": {
  "kernelspec": {
   "display_name": "Python 3 (ipykernel)",
   "language": "python",
   "name": "python3"
  },
  "language_info": {
   "codemirror_mode": {
    "name": "ipython",
    "version": 3
   },
   "file_extension": ".py",
   "mimetype": "text/x-python",
   "name": "python",
   "nbconvert_exporter": "python",
   "pygments_lexer": "ipython3",
   "version": "3.9.6"
  }
 },
 "nbformat": 4,
 "nbformat_minor": 5
}
