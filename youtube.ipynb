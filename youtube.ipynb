{
 "cells": [
  {
   "cell_type": "code",
   "execution_count": 1,
   "id": "a1c2cda7-080c-4e72-b3b8-1d025b8b72c6",
   "metadata": {},
   "outputs": [],
   "source": [
    "import pandas as pd\n",
    "import numpy as np\n",
    "import plotly.express as px\n",
    "import matplotlib.pyplot as plt\n",
    "from googleapiclient.discovery import build\n",
    "from dotenv import load_dotenv\n",
    "import os"
   ]
  },
  {
   "cell_type": "code",
   "execution_count": 6,
   "id": "e31d978b-c315-4c8f-94da-663746cfbe93",
   "metadata": {},
   "outputs": [],
   "source": [
    "load_dotenv()\n",
    "API_KEY = os.getenv('YOUTUBE_API_KEY1')\n",
    "youtube = build('youtube', 'v3', developerKey=API_KEY)"
   ]
  },
  {
   "cell_type": "code",
   "execution_count": 9,
   "id": "ed447ae0-0d19-4725-8d94-c1b408b81aa0",
   "metadata": {},
   "outputs": [],
   "source": [
    "def search_news_channels():\n",
    "    # Search for channels related to news in the US (can include any related keywords like 'news', 'journalism')\n",
    "    request = youtube.search().list(\n",
    "        part='snippet',\n",
    "        type='channel',           # Search for channels\n",
    "        q='news',                  # Search for \"news\" related channels\n",
    "        regionCode='US',           # Limit to the US\n",
    "        maxResults=25             # Limit the number of results to 10\n",
    "    )\n",
    "    response = request.execute()\n",
    "    return response\n",
    "\n",
    "# Fetch the top 10 news channels\n",
    "news_channels = search_news_channels()"
   ]
  },
  {
   "cell_type": "code",
   "execution_count": 11,
   "id": "5362f97b-9260-42cb-818d-f0cbc0d15fd1",
   "metadata": {},
   "outputs": [
    {
     "name": "stdout",
     "output_type": "stream",
     "text": [
      "Fox News - UCXIJgqnII2ZOINSWNOGFThA\n",
      "ABC News - UCBi2mrWuNuyYy4gbM6fU18Q\n",
      "News - UCYfdidRxbB8Qhf0Nx7ioOYw\n",
      "BBC News - UC16niRr50-MSBwiO3YDb3RA\n",
      "日テレNEWS - UCuTAXTexrhetbOe3zgskJBQ\n",
      "にゅうちゅうぶ | NEWS official - UCj9f2amb1D0RuTNrBQ9GJoQ\n",
      "Sky News - UCoMdktPbSTixAyNGwb-UYkQ\n",
      "ABS-CBN News - UCE2606prvXQc_noEqKxVJXA\n",
      "TVBS NEWS - UC5nwNW4KdC0SzrhF9BXEYOQ\n",
      "NEWS AM - UCDv-XtfgNGHXcpwu4ab0WnA\n",
      "NBC News - UCeY0bbntWzzVIaj2z3QigXg\n",
      "9 News Australia - UCIYLOcEUX6TbBo7HQVF2PKA\n",
      "無綫新聞 TVB NEWS Official - UC_ifDTtFAcsj-wJ5JfM27CQ\n",
      "Geo News - UC_vt34wimdCzdkrzVejwX9g\n",
      "News - Topic - UCte8ywmzIMWUT3K6rH4H1XQ\n",
      "CS2 NEWS HUB - UCr4T-eq-wGMZQJiARI0nC_Q\n",
      "Good News Circle - Topic - UC79umPRGQIo23TpAyfpv48w\n",
      "Good News - Topic - UCrLbXfsTlSlU4eZYiAXNcsQ\n",
      "LLA News - China News - UCzgw6gUjklNbJejbuWVGM7Q\n",
      "NEWS - Topic - UCbYM7oBcZNzqQp98PiF5HKw\n",
      "Health News - UCn371zWk5jljg-ycIXkEUSA\n",
      "Bad News Blues Band - Topic - UCIJLo1rxpNoPaoJxll26nsg\n",
      "News From Nowhere - Topic - UCvOJ4neMIuwsAvoNV82sCPA\n",
      "ATLANTA FALCONS NEWS TODAY FANS - UCsATXVDHDOlaYrTZU_z3w0Q\n",
      "Mr fake news - Topic - UCEiFvnxd5Z5_SvLZxiTZt5g\n"
     ]
    }
   ],
   "source": [
    "# Print the channel info (you can modify this to display only the channel IDs and names)\n",
    "for channel in news_channels['items']:\n",
    "    channel_id = channel['snippet']['channelId']\n",
    "    channel_title = channel['snippet']['channelTitle']\n",
    "    print(f\"{channel_title} - {channel_id}\")"
   ]
  },
  {
   "cell_type": "code",
   "execution_count": 34,
   "id": "a547d60e-4761-44dd-8bd7-ddc438589776",
   "metadata": {},
   "outputs": [],
   "source": [
    "def get_channel_stats(channel_id):\n",
    "    request = youtube.channels().list(\n",
    "        part='snippet,statistics',\n",
    "        id=channel_id\n",
    "    )\n",
    "    response = request.execute()\n",
    "    stats = response['items'][0]['statistics']\n",
    "    return {\n",
    "        'channel_id': channel_id,\n",
    "        'title': response['items'][0]['snippet']['title'],\n",
    "        'subscribers': stats.get('subscriberCount', 'hidden'),\n",
    "        'total_views': stats.get('viewCount'),\n",
    "        'video_count': stats.get('videoCount')\n",
    "    }"
   ]
  },
  {
   "cell_type": "code",
   "execution_count": 35,
   "id": "2b6ce89e-be6b-4d6b-b7bd-f6f61d74bd1d",
   "metadata": {},
   "outputs": [],
   "source": [
    "def get_uploads_playlist_id(channel_id):\n",
    "    request = youtube.channels().list(\n",
    "        part='contentDetails',\n",
    "        id=channel_id\n",
    "    )\n",
    "    response = request.execute()\n",
    "    return response['items'][0]['contentDetails']['relatedPlaylists']['uploads']\n",
    "\n",
    "def get_video_ids_from_playlist(playlist_id, max_videos=5):\n",
    "    video_ids = []\n",
    "    request = youtube.playlistItems().list(\n",
    "        part='contentDetails',\n",
    "        playlistId=playlist_id,\n",
    "        maxResults=max_videos\n",
    "    )\n",
    "    response = request.execute()\n",
    "    for item in response['items']:\n",
    "        video_ids.append(item['contentDetails']['videoId'])\n",
    "    return video_ids\n"
   ]
  },
  {
   "cell_type": "code",
   "execution_count": 36,
   "id": "cd4eb8b8-6db0-465f-a899-cd5400633aa0",
   "metadata": {},
   "outputs": [],
   "source": [
    "def get_video_stats(video_id):\n",
    "    request = youtube.videos().list(\n",
    "        part='snippet,statistics',\n",
    "        id=video_id\n",
    "    )\n",
    "    response = request.execute()\n",
    "    data = response['items'][0]\n",
    "    return {\n",
    "        'title': data['snippet']['title'],\n",
    "        'published_at': data['snippet']['publishedAt'],\n",
    "        'views': data['statistics'].get('viewCount'),\n",
    "        'likes': data['statistics'].get('likeCount'),\n",
    "        'comments': data['statistics'].get('commentCount')\n",
    "    }\n"
   ]
  },
  {
   "cell_type": "code",
   "execution_count": 37,
   "id": "f25e74a3-6741-46cd-9ecb-e80cf9fc5f76",
   "metadata": {},
   "outputs": [],
   "source": [
    "def get_video_comments(video_id, max_comments=100):\n",
    "    comments = []\n",
    "    request = youtube.commentThreads().list(\n",
    "        part='snippet',\n",
    "        videoId=video_id,\n",
    "        maxResults=100,  # YouTube limits this per page\n",
    "        textFormat='plainText'\n",
    "    )\n",
    "    response = request.execute()\n",
    "    \n",
    "    for item in response['items']:\n",
    "        top_comment = item['snippet']['topLevelComment']['snippet']\n",
    "        comments.append({\n",
    "            'author': top_comment['authorDisplayName'],\n",
    "            'profile_image': top_comment['authorProfileImageUrl'],\n",
    "            'text': top_comment['textDisplay'],\n",
    "            'like_count': top_comment['likeCount'],\n",
    "            'published_at': top_comment['publishedAt']\n",
    "        })\n",
    "\n",
    "    return comments[:max_comments]\n"
   ]
  },
  {
   "cell_type": "code",
   "execution_count": 38,
   "id": "95494c30-915b-4e85-add4-f5f694ceb84c",
   "metadata": {},
   "outputs": [
    {
     "name": "stdout",
     "output_type": "stream",
     "text": [
      "{'channel_id': 'UCXIJgqnII2ZOINSWNOGFThA', 'title': 'Fox News', 'subscribers': '13500000', 'total_views': '20410513451', 'video_count': '119469'}\n"
     ]
    }
   ],
   "source": [
    "channel_id = 'UCXIJgqnII2ZOINSWNOGFThA'\n",
    "channel_stats = get_channel_stats(channel_id)\n",
    "print(channel_stats)"
   ]
  },
  {
   "cell_type": "code",
   "execution_count": 39,
   "id": "f2897e3b-ab52-4ddb-b340-43581b100b5a",
   "metadata": {},
   "outputs": [
    {
     "name": "stdout",
     "output_type": "stream",
     "text": [
      "Uploads Playlist ID: UUXIJgqnII2ZOINSWNOGFThA\n"
     ]
    }
   ],
   "source": [
    "playlist_id = get_uploads_playlist_id(channel_id)\n",
    "print(\"Uploads Playlist ID:\", playlist_id)"
   ]
  },
  {
   "cell_type": "code",
   "execution_count": 40,
   "id": "559588ca-f1cd-4323-85ad-61a0bb95b640",
   "metadata": {},
   "outputs": [
    {
     "name": "stdout",
     "output_type": "stream",
     "text": [
      "Video IDs: ['fyzWSABknTs', '6Em4QyUuLUU', 'HDhVzem6iQw']\n"
     ]
    }
   ],
   "source": [
    "video_ids = get_video_ids_from_playlist(playlist_id, max_videos=3)\n",
    "print(\"Video IDs:\", video_ids)"
   ]
  },
  {
   "cell_type": "code",
   "execution_count": 41,
   "id": "65949a40-22f8-46be-8143-e0d3574cfe8a",
   "metadata": {},
   "outputs": [
    {
     "name": "stdout",
     "output_type": "stream",
     "text": [
      "{'title': 'This is who Democrats are protecting: Hannity', 'published_at': '2025-05-06T02:00:39Z', 'views': '535', 'likes': '71', 'comments': '35'}\n"
     ]
    }
   ],
   "source": [
    "video_stats = get_video_stats(video_ids[0])\n",
    "print(video_stats)"
   ]
  },
  {
   "cell_type": "code",
   "execution_count": 42,
   "id": "9c60e14a-231f-4829-82d9-d0da5443a19f",
   "metadata": {},
   "outputs": [
    {
     "name": "stdout",
     "output_type": "stream",
     "text": [
      "@FoxNews -> Read more: https://www.foxnews.com/politics/democrat-hank-johnson-draws-holocaust-comparison-while-b\n",
      "@Islam__Islam -> If you ever find yourself questioning your existence or you want answers about what your purpose is \n",
      "@jasonraynor9538 -> AOC gots - Too- Go ! They are anti everything American .\n",
      "@onikomehrabi264 -> Show the maps and propaganda that was put out in other countries telling people to come to America.\n",
      "@dannysart3990 -> State media T.V scaring old people. But not reporting on Trump's crypto scamming.\n"
     ]
    }
   ],
   "source": [
    "comments = get_video_comments(video_ids[0], max_comments=5)\n",
    "for c in comments:\n",
    "    print(c['author'], \"->\", c['text'][:100])"
   ]
  },
  {
   "cell_type": "code",
   "execution_count": null,
   "id": "bb9e70c3-0683-41d8-bcdc-32d2414b4d97",
   "metadata": {},
   "outputs": [],
   "source": []
  },
  {
   "cell_type": "code",
   "execution_count": null,
   "id": "c0ca461a-d2c2-49bb-a7ea-2629911ee081",
   "metadata": {},
   "outputs": [],
   "source": []
  },
  {
   "cell_type": "code",
   "execution_count": null,
   "id": "a3c8cf8a-7afd-4d84-876c-c0426ad9908a",
   "metadata": {},
   "outputs": [],
   "source": []
  },
  {
   "cell_type": "code",
   "execution_count": null,
   "id": "f5619874-c086-4cbe-b639-e121c61a1545",
   "metadata": {},
   "outputs": [],
   "source": []
  },
  {
   "cell_type": "code",
   "execution_count": null,
   "id": "d3e2b181-0b04-48a1-b8ff-9fefc42cb816",
   "metadata": {},
   "outputs": [],
   "source": []
  },
  {
   "cell_type": "code",
   "execution_count": null,
   "id": "2ca1b681-235c-40a0-ad9d-c081930c82bd",
   "metadata": {},
   "outputs": [],
   "source": []
  },
  {
   "cell_type": "code",
   "execution_count": null,
   "id": "deb83664-1a42-4d11-85a2-d954e934cff6",
   "metadata": {},
   "outputs": [],
   "source": []
  },
  {
   "cell_type": "code",
   "execution_count": null,
   "id": "a5e8bbf0-8234-4ded-89fe-e090efe38930",
   "metadata": {},
   "outputs": [],
   "source": []
  }
 ],
 "metadata": {
  "kernelspec": {
   "display_name": "Python 3 (ipykernel)",
   "language": "python",
   "name": "python3"
  },
  "language_info": {
   "codemirror_mode": {
    "name": "ipython",
    "version": 3
   },
   "file_extension": ".py",
   "mimetype": "text/x-python",
   "name": "python",
   "nbconvert_exporter": "python",
   "pygments_lexer": "ipython3",
   "version": "3.9.6"
  }
 },
 "nbformat": 4,
 "nbformat_minor": 5
}
